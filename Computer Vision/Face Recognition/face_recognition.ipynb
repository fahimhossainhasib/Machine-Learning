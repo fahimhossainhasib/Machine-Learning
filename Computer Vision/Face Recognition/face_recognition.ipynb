{
 "cells": [
  {
   "cell_type": "code",
   "execution_count": 6,
   "metadata": {},
   "outputs": [],
   "source": [
    "import face_recognition\n",
    "import os\n",
    "import pickle\n",
    "import numpy as np"
   ]
  },
  {
   "cell_type": "code",
   "execution_count": 7,
   "metadata": {},
   "outputs": [
    {
     "name": "stdout",
     "output_type": "stream",
     "text": [
      "Face Encoded!\n"
     ]
    }
   ],
   "source": [
    "KNOWN_FACES_DIR = 'train'\n",
    "encoded_faces = {} #An array which will contain all face encodings from training data \n",
    "for name in os.listdir(KNOWN_FACES_DIR):\n",
    "    for filename in os.listdir(f'{KNOWN_FACES_DIR}/{name}'):\n",
    "        image = face_recognition.load_image_file(f'{KNOWN_FACES_DIR}/{name}/{filename}') #Load image\n",
    "        faceloc = face_recognition.face_locations(image, model = 'hog') #Detect face(s)\n",
    "        if (len(faceloc) > 0):\n",
    "            encoded_faces[name + \"_\" + filename] = face_recognition.face_encodings(image, faceloc) #Encode every detected face\n",
    "\n",
    "with open('train.dat', 'wb') as f:\n",
    "    pickle.dump(encoded_faces, f) #Store all face encodinga\n",
    "print(\"Face Encoded!\")"
   ]
  },
  {
   "cell_type": "code",
   "execution_count": 8,
   "metadata": {},
   "outputs": [
    {
     "name": "stdout",
     "output_type": "stream",
     "text": [
      "Test Image - ang4.jpg, Prediction - Andrew NG\n",
      "Test Image - ang5.jpg, Prediction - Andrew NG\n",
      "Test Image - em4.jpg, Prediction - Elon Musk\n",
      "Test Image - em5.jpg, Prediction - Elon Musk\n",
      "Test Image - gh4.jpg, Prediction - Geoffrey Hinton\n",
      "Test Image - gh5.jpg, Prediction - Geoffrey Hinton\n",
      "Test Image - sh4.jpg, Prediction - Sam Harris\n",
      "Test Image - sh5.jpg, Prediction - Sam Harris\n",
      "Test Image - yam4.jpg, Prediction - Yaser Abu Mostafa\n",
      "Test Image - yam5.jpg, Prediction - Yaser Abu Mostafa\n"
     ]
    }
   ],
   "source": [
    "UNKNOWN_FACES_DIR = 'test'\n",
    "with open('train.dat', 'rb') as f:\n",
    "    encoded_faces = pickle.load(f) #Take all stored encoding\n",
    "\n",
    "face_names = list(encoded_faces.keys()) #Name of the encoding\n",
    "face_encodings = np.array(list(encoded_faces.values()), dtype=object) #Value of the encoding\n",
    "for name in os.listdir(UNKNOWN_FACES_DIR):\n",
    "    for filename in os.listdir(f'{UNKNOWN_FACES_DIR}/{name}'):\n",
    "        image = face_recognition.load_image_file(f'{UNKNOWN_FACES_DIR}/{name}/{filename}')\n",
    "        faceloc = face_recognition.face_locations(image, model = 'hog') #Detect face in the test image\n",
    "        test_encoding = face_recognition.face_encodings(image, faceloc) #Encode the test image\n",
    "        for i in range(0, len(test_encoding)): #Take every test image encodings\n",
    "            for j in range(0, len(face_encodings)): #Take every stored image encodings\n",
    "                result = face_recognition.compare_faces(face_encodings[j], test_encoding[i], tolerance=0.45) #Compare each test encoding with each stored encoding until their distance is below the threshold(0.45)\n",
    "                if True in result:\n",
    "                    print(\"Test Image - \" + filename + \", Prediction - \" + face_names[j].split(\"_\")[0])\n",
    "                    break #If one match is found, take the nest test image"
   ]
  },
  {
   "cell_type": "code",
   "execution_count": null,
   "metadata": {},
   "outputs": [],
   "source": []
  }
 ],
 "metadata": {
  "kernelspec": {
   "display_name": "Python 3.7 (robot)",
   "language": "python",
   "name": "robot"
  },
  "language_info": {
   "codemirror_mode": {
    "name": "ipython",
    "version": 3
   },
   "file_extension": ".py",
   "mimetype": "text/x-python",
   "name": "python",
   "nbconvert_exporter": "python",
   "pygments_lexer": "ipython3",
   "version": "3.8.5"
  }
 },
 "nbformat": 4,
 "nbformat_minor": 2
}
